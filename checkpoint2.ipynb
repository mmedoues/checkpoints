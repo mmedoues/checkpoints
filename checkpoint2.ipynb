{
 "cells": [
  {
   "cell_type": "markdown",
   "id": "e83f8432",
   "metadata": {},
   "source": [
    "# question 1"
   ]
  },
  {
   "cell_type": "code",
   "execution_count": 1,
   "id": "a73227ff",
   "metadata": {},
   "outputs": [
    {
     "name": "stdout",
     "output_type": "stream",
     "text": [
      "[2002, 2009, 2016, 2023, 2037, 2044, 2051, 2058, 2072, 2079, 2086, 2093, 2107, 2114, 2121, 2128, 2142, 2149, 2156, 2163, 2177, 2184, 2191, 2198, 2212, 2219, 2226, 2233, 2247, 2254, 2261, 2268, 2282, 2289, 2296, 2303, 2317, 2324, 2331, 2338, 2352, 2359, 2366, 2373, 2387, 2394, 2401, 2408, 2422, 2429, 2436, 2443, 2457, 2464, 2471, 2478, 2492, 2499, 2506, 2513, 2527, 2534, 2541, 2548, 2562, 2569, 2576, 2583, 2597, 2604, 2611, 2618, 2632, 2639, 2646, 2653, 2667, 2674, 2681, 2688, 2702, 2709, 2716, 2723, 2737, 2744, 2751, 2758, 2772, 2779, 2786, 2793, 2807, 2814, 2821, 2828, 2842, 2849, 2856, 2863, 2877, 2884, 2891, 2898, 2912, 2919, 2926, 2933, 2947, 2954, 2961, 2968, 2982, 2989, 2996]\n"
     ]
    }
   ],
   "source": [
    "a=[]\n",
    "for i in range(2000,3001) :\n",
    "  if i%7==0 and i%5!=0 : \n",
    "    a.append(i)\n",
    "print(a)"
   ]
  },
  {
   "cell_type": "markdown",
   "id": "b0381a86",
   "metadata": {},
   "source": [
    "# question 2"
   ]
  },
  {
   "cell_type": "code",
   "execution_count": 3,
   "id": "9326d2d0",
   "metadata": {},
   "outputs": [
    {
     "name": "stdout",
     "output_type": "stream",
     "text": [
      "please enter a number0\n",
      "1\n"
     ]
    }
   ],
   "source": [
    "a=int(input(\"please enter a number\"))\n",
    "x=1\n",
    "x=x*a\n",
    "if a==0 :\n",
    "  print(1)\n",
    "else :\n",
    "    x = 1\n",
    "    for i in range(1, a+1):\n",
    "        x *= i\n",
    "    print(x)"
   ]
  },
  {
   "cell_type": "markdown",
   "id": "eacd35d5",
   "metadata": {},
   "source": [
    "# question 3"
   ]
  },
  {
   "cell_type": "code",
   "execution_count": 6,
   "id": "0859b38d",
   "metadata": {},
   "outputs": [
    {
     "name": "stdout",
     "output_type": "stream",
     "text": [
      "please enter a number3\n",
      "{1: 1, 2: 4, 3: 9}\n"
     ]
    }
   ],
   "source": [
    "a=int(input(\"please enter a number\"))\n",
    "dictionnaire={}\n",
    "for i in range(1,a+1) : \n",
    "  dictionnaire[i]=i*i\n",
    "print(dictionnaire)"
   ]
  },
  {
   "cell_type": "markdown",
   "id": "99792ede",
   "metadata": {},
   "source": [
    "# question 4"
   ]
  },
  {
   "cell_type": "code",
   "execution_count": 1,
   "id": "c2b13d67",
   "metadata": {},
   "outputs": [
    {
     "name": "stdout",
     "output_type": "stream",
     "text": [
      "please enter a number1\n",
      "Enter a non-empty string: kitten\n",
      "ktten\n"
     ]
    }
   ],
   "source": [
    "a=int(input(\"please enter a number\"))\n",
    "ch =\"\"\n",
    "while not ch:\n",
    "    ch = str(input(\"Enter a non-empty string\"))\n",
    "def missing_char(x, y) :\n",
    "    ch2 = x[:y] + x[y+1:]\n",
    "    print(ch2)\n",
    "missing_char(ch,a)\n"
   ]
  },
  {
   "cell_type": "markdown",
   "id": "0dabc917",
   "metadata": {},
   "source": [
    "# question 5"
   ]
  },
  {
   "cell_type": "code",
   "execution_count": null,
   "id": "d073c652",
   "metadata": {},
   "outputs": [],
   "source": [
    "import numpy as np\n",
    "\n",
    "rows = int(input(\"rows\"))\n",
    "cols = int(input(\"columns\"))\n",
    "\n",
    "arr = np.empty((rows, cols), dtype=int)\n",
    "\n",
    "for i in range(rows):\n",
    "    for j in range(cols):\n",
    "        arr[i][j] = int(input(f\"Enter the value for element ({i}, {j}): \"))\n",
    "\n",
    "list1 = arr.tolist()\n",
    "\n",
    "print(\"Original array elements:\",arr)\n",
    "print(\"Array to list:\", list1)\n",
    "#to_list() is wrong in the question given in the checkpoint ! (tolist())\n"
   ]
  },
  {
   "cell_type": "markdown",
   "id": "9e1782f2",
   "metadata": {},
   "source": [
    "# question 6"
   ]
  },
  {
   "cell_type": "code",
   "execution_count": 3,
   "id": "947f4aa8",
   "metadata": {},
   "outputs": [
    {
     "name": "stdout",
     "output_type": "stream",
     "text": [
      "n of rows for arr11\n",
      "n of cols for arr1 3\n",
      "Enter the value for element (0, 0) of arr1: 0\n",
      "Enter the value for element (0, 1) of arr1: 1\n",
      "Enter the value for element (0, 2) of arr1: 2\n",
      "n of rows for arr21\n",
      "n of cols for arr23\n",
      "Enter the value for element (0, 0) of arr2: 2\n",
      "Enter the value for element (0, 1) of arr2: 1\n",
      "Enter the value for element (0, 2) of arr2: 0\n",
      "Covariance matrix between arr1 and arr2:\n",
      " [[ 1. -1.]\n",
      " [-1.  1.]]\n"
     ]
    }
   ],
   "source": [
    "import numpy as np\n",
    "\n",
    "#arr1\n",
    "rows1 = int(input(\"n of rows for arr1\"))\n",
    "cols1 = int(input(\"n of cols for arr1 \"))\n",
    "arr1 = np.zeros((rows1, cols1), dtype=int)\n",
    "for i in range(rows1):\n",
    "    for j in range(cols1):\n",
    "        arr1[i][j] = int(input(f\"Enter the value for element ({i}, {j}) of arr1: \"))\n",
    "\n",
    "#arr2\n",
    "rows2 = int(input(\"n of rows for arr2\"))\n",
    "cols2 = int(input(\"n of cols for arr2\"))\n",
    "arr2 = np.zeros((rows2, cols2), dtype=int)\n",
    "for i in range(rows2):\n",
    "    for j in range(cols2):\n",
    "        arr2[i][j] = int(input(f\"Enter the value for element ({i}, {j}) of arr2: \"))\n",
    "\n",
    "#covariance\n",
    "cov = np.cov(arr1, arr2)\n",
    "\n",
    "print(\"Covariance matrix between arr1 and arr2:\\n\", cov)\n",
    "# note here that i did not understand the concept well i just know how to use the function  \n"
   ]
  },
  {
   "cell_type": "markdown",
   "id": "9e521f78",
   "metadata": {},
   "source": [
    "# question 7"
   ]
  },
  {
   "cell_type": "code",
   "execution_count": 7,
   "id": "da0c615b",
   "metadata": {},
   "outputs": [
    {
     "name": "stdout",
     "output_type": "stream",
     "text": [
      "Enter comma-separated sequence of D values: 100,150,180\n",
      "['100', '150', '180']\n",
      "18\n",
      "22\n",
      "24\n"
     ]
    }
   ],
   "source": [
    "import math\n",
    "C = 50\n",
    "H = 30\n",
    "\n",
    "inputs = input(\"Enter comma-separated sequence of D values: \")\n",
    "liste = inputs.split(',')\n",
    "print(liste)\n",
    "for D in liste:\n",
    "    D = int(D)\n",
    "    Q = math.sqrt((2*C*D)/H)\n",
    "    Q = round(Q)\n",
    "    \n",
    "    print(Q)\n"
   ]
  },
  {
   "cell_type": "code",
   "execution_count": null,
   "id": "89e12c72",
   "metadata": {},
   "outputs": [],
   "source": []
  }
 ],
 "metadata": {
  "kernelspec": {
   "display_name": "Python 3 (ipykernel)",
   "language": "python",
   "name": "python3"
  },
  "language_info": {
   "codemirror_mode": {
    "name": "ipython",
    "version": 3
   },
   "file_extension": ".py",
   "mimetype": "text/x-python",
   "name": "python",
   "nbconvert_exporter": "python",
   "pygments_lexer": "ipython3",
   "version": "3.10.9"
  }
 },
 "nbformat": 4,
 "nbformat_minor": 5
}
